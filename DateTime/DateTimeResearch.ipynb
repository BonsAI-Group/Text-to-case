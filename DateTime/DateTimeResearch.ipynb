{
 "cells": [
  {
   "cell_type": "code",
   "execution_count": 7,
   "metadata": {},
   "outputs": [],
   "source": [
    "from sutime import SUTime\n",
    "import pandas as pd\n",
    "import datetime\n",
    "from dateutil.parser import *\n",
    "import re"
   ]
  },
  {
   "cell_type": "code",
   "execution_count": 133,
   "metadata": {},
   "outputs": [
    {
     "name": "stderr",
     "output_type": "stream",
     "text": [
      "C:\\Users\\elibr\\AppData\\Local\\Temp\\ipykernel_15256\\629715250.py:4: FutureWarning: The frame.append method is deprecated and will be removed from pandas in a future version. Use pandas.concat instead.\n",
      "  validation_data = validation_data.append([\n"
     ]
    }
   ],
   "source": [
    "validation_data = pd.DataFrame(columns=['text', 'expected_datetime'])\n",
    "current_date = datetime.datetime.now()\n",
    "current_date = current_date.replace(microsecond=0)\n",
    "validation_data = validation_data.append([\n",
    "    {'text': 'I will be there tomorrow', 'expected_datetime': (current_date + datetime.timedelta(days=1)).date()},\n",
    "    {'text': 'I will be there today', 'expected_datetime': current_date.date()},\n",
    "    {'text': 'I will be there yesterday', 'expected_datetime': (current_date - datetime.timedelta(days=1)).date()},\n",
    "    {'text': 'I will be there next week', 'expected_datetime': (current_date + datetime.timedelta(days=7)).date()},\n",
    "    {'text': 'I will be there last week', 'expected_datetime': (current_date - datetime.timedelta(days=7)).date()},\n",
    "    {'text': 'I will be there next month', 'expected_datetime': (current_date + datetime.timedelta(weeks=4)).date().replace(day=1)},\n",
    "    {'text': 'I will be there last month', 'expected_datetime': (current_date - datetime.timedelta(weeks=4)).date().replace(day=1)},\n",
    "    {'text': 'I will be there next year', 'expected_datetime': (current_date + datetime.timedelta(weeks=52)).date().replace(day=1, month=1)},\n",
    "    {'text': 'I will be there last year', 'expected_datetime': (current_date - datetime.timedelta(weeks=52)).date().replace(day=1, month=1)},\n",
    "    {'text': 'I will be there the day after tomorrow', 'expected_datetime': (current_date + datetime.timedelta(days=2)).date()},\n",
    "    {'text': 'I will be there the day before yesterday', 'expected_datetime': (current_date - datetime.timedelta(days=2)).date()},\n",
    "    {'text': 'I will be there the day before today', 'expected_datetime': (current_date - datetime.timedelta(days=1)).date()},\n",
    "    {'text': 'I will be there the day after today', 'expected_datetime': (current_date + datetime.timedelta(days=1)).date()},\n",
    "    {'text': 'I will be there the week after the next', 'expected_datetime': (current_date + datetime.timedelta(days=14)).date()},\n",
    "    {'text': 'I will be there the week before the last', 'expected_datetime':  (current_date - datetime.timedelta(days=14)).date()},\n",
    "    {'text': 'I will be there the month after the next', 'expected_datetime': (current_date + datetime.timedelta(weeks=8)).date().replace(day=1)},\n",
    "    {'text': 'I will be there the month before the last', 'expected_datetime': (current_date - datetime.timedelta(weeks=8)).date().replace(day=1)},\n",
    "    {'text': 'I will be there the year after the next', 'expected_datetime': (current_date + datetime.timedelta(weeks=104)).date().replace(day=1, month=1)},\n",
    "    {'text': 'I will be there the year before the last', 'expected_datetime': (current_date - datetime.timedelta(weeks=104)).date().replace(day=1, month=1)},\n",
    "    {'text': 'I will be there at 10:00', 'expected_datetime': current_date.replace(hour=10, minute=0, second=0, microsecond=0)},\n",
    "    {'text': 'I will be there at ten o\\'clock am', 'expected_datetime': current_date.replace(hour=10, minute=0, second=0, microsecond=0)},\n",
    "    {'text': 'I will be there in 10 minutes', 'expected_datetime': current_date + datetime.timedelta(minutes=10)},\n",
    "    {'text': 'I will be there in 10 hours', 'expected_datetime': current_date + datetime.timedelta(hours=10)},\n",
    "    {'text': 'I will be there in ten minutes', 'expected_datetime': current_date + datetime.timedelta(minutes=10)},\n",
    "    {'text': 'I will be there in ten hours', 'expected_datetime': current_date + datetime.timedelta(hours=10)},\n",
    "    {'text': 'I will be there in 10 minutes and 10 hours', 'expected_datetime': current_date + datetime.timedelta(hours=10, minutes=10)},\n",
    "    {'text': 'I was there 10 minutes ago', 'expected_datetime': current_date - datetime.timedelta(minutes=10)},\n",
    "    {'text': 'I was there 10 hours ago', 'expected_datetime': current_date - datetime.timedelta(hours=10)},\n",
    "    {'text': 'I will be there this morning', 'expected_datetime': current_date.replace(hour=8, minute=0, second=0, microsecond=0)},\n",
    "    {'text': 'I will be there this afternoon', 'expected_datetime': current_date.replace(hour=12, minute=0, second=0, microsecond=0)},\n",
    "    {'text': 'I will be there this evening', 'expected_datetime': current_date.replace(hour=18, minute=0, second=0, microsecond=0)},\n",
    "    {'text': 'I will be there this night', 'expected_datetime': current_date.replace(hour=22, minute=0, second=0, microsecond=0)},\n",
    "    {'text': 'I will be there this coming Friday', 'expected_datetime': (current_date + (datetime.timedelta(days=(4-current_date.weekday()) % 7))).replace(hour=0, minute=0, second=0, microsecond=0)},\n",
    "    {'text': 'I will be there next Friday', 'expected_datetime': (current_date + (datetime.timedelta(days=(4-current_date.weekday()) % 7))).replace(hour=0, minute=0, second=0, microsecond=0)},\n",
    "    {'text': 'I will be there next week Friday', 'expected_datetime': (current_date + (datetime.timedelta(days=(4-current_date.weekday()) % 7, weeks=1))).replace(hour=0, minute=0, second=0, microsecond=0)},\n",
    "    {'text': 'I will be there last Friday', 'expected_datetime': (current_date - (datetime.timedelta(days=(current_date.weekday()-4) % 7))).replace(hour=0, minute=0, second=0, microsecond=0)},\n",
    "    {'text': 'I will be there next Monday at ten o\\'clock am', 'expected_datetime': (current_date + (datetime.timedelta(days=(7-current_date.weekday()) % 7))).replace(hour=10, minute=0, second=0, microsecond=0)},\n",
    "])"
   ]
  },
  {
   "cell_type": "code",
   "execution_count": 131,
   "metadata": {},
   "outputs": [],
   "source": [
    "sutime = SUTime()"
   ]
  },
  {
   "cell_type": "code",
   "execution_count": 135,
   "metadata": {},
   "outputs": [],
   "source": [
    "final_data = pd.DataFrame(columns=['text', 'expected_datetime', 'result_parsed_datetime', 'result_string'])\n",
    "for index, row in validation_data.iterrows():\n",
    "    result = sutime.parse(row['text'])\n",
    "    \n",
    "    date = result[0]['value']\n",
    "    # switch of formats (yyyy-mm-dd, yyyy-Mmm)\n",
    "    if re.match(r'^\\d{4}-\\d{2}-\\d{2}$', date): # yyyy-mm-dd\n",
    "        parsed_date = datetime.datetime.strptime(date, '%Y-%m-%d')\n",
    "    elif re.match(r'^\\d{4}-W\\d{2}$', date): # yyyy-Www\n",
    "        parsed_date = datetime.datetime.strptime(date + '-1', \"%Y-W%W-%w\")\n",
    "    elif re.match(r'^\\d{4}-\\d{2}$', date): # yyyy-mm\n",
    "        parsed_date = datetime.datetime.strptime(date + '-01', \"%Y-%m-%d\")\n",
    "    elif re.match(r'^\\d{4}$', date): # yyyy \n",
    "        parsed_date = datetime.datetime.strptime(date + '-01-01', \"%Y-%m-%d\")\n",
    "    elif re.match(r'^\\d{2}:\\d{2}$', date): # hh:mm\n",
    "        parsed_date = datetime.datetime.strptime(date, '%H:%M')\n",
    "    elif re.match(r'^\\d{4}-\\d{2}-\\d{2}T\\d{2}:\\d{2}$', date): # yyyy-mm-ddThh:mm\n",
    "        parsed_date = datetime.datetime.strptime(date, '%Y-%m-%dT%H:%M')\n",
    "    elif re.match(r'^PT\\d{2}H\\d{2}M$', date): # PTxxHxxM\n",
    "        parsed_date = current_date + datetime.timedelta(hours=int(date[2:4]), minutes=int(date[5:7]))\n",
    "    elif re.match(r'^PT\\d{2}H$', date): # PTxxH\n",
    "        parsed_date = current_date + datetime.timedelta(hours=int(date[2:4]))\n",
    "    elif re.match(r'^PT\\d{2}M$', date): # PTxxM\n",
    "        parsed_date =  current_date + datetime.timedelta(minutes=int(date[2:4]))\n",
    "    elif re.match(r'^\\d{4}-\\d{2}-\\d{2}TMO$', date): # yyyy-mm-ddTMO\n",
    "        parsed_date = datetime.datetime.strptime(date, '%Y-%m-%dTMO').replace(hour=8, minute=0, second=0, microsecond=0)\n",
    "    elif re.match(r'^\\d{4}-\\d{2}-\\d{2}TAF$', date): # yyyy-mm-ddTAF\n",
    "        parsed_date = datetime.datetime.strptime(date, '%Y-%m-%dTAF').replace(hour=12, minute=0, second=0, microsecond=0)\n",
    "    elif re.match(r'^\\d{4}-\\d{2}-\\d{2}TEV$', date): # yyyy-mm-ddTEV\n",
    "        parsed_date = datetime.datetime.strptime(date, '%Y-%m-%dTEV').replace(hour=18, minute=0, second=0, microsecond=0)\n",
    "    elif re.match(r'^\\d{4}-\\d{2}-\\d{2}TNI$', date): # yyyy-mm-ddTNI\n",
    "        parsed_date = datetime.datetime.strptime(date, '%Y-%m-%dTNI').replace(hour=22, minute=0, second=0, microsecond=0)\n",
    "    else:\n",
    "        raise Exception(f'Unknown date format: {result} for text: {row[\"text\"]}')\n",
    "    \n",
    "    final_data = pd.concat([final_data, pd.DataFrame([{\n",
    "        'text': row['text'],\n",
    "        'expected_datetime': row['expected_datetime'],\n",
    "        'result_parsed_datetime': parsed_date,\n",
    "        'result_string': result[0]['text'],\n",
    "        'result_value': result[0]['value'],\n",
    "    }])])\n",
    "    "
   ]
  },
  {
   "cell_type": "code",
   "execution_count": 137,
   "metadata": {},
   "outputs": [
    {
     "name": "stdout",
     "output_type": "stream",
     "text": [
      "Not matching: 12\n",
      "Accuracy: 0.6756756756756757\n"
     ]
    }
   ],
   "source": [
    "not_matching = final_data[final_data['expected_datetime'] != final_data['result_parsed_datetime']]\n",
    "print(f'Not matching: {len(not_matching)}')\n",
    "accuracy = 1 - len(not_matching) / len(final_data)\n",
    "print(f'Accuracy: {accuracy}')\n"
   ]
  }
 ],
 "metadata": {
  "kernelspec": {
   "display_name": "tf",
   "language": "python",
   "name": "python3"
  },
  "language_info": {
   "codemirror_mode": {
    "name": "ipython",
    "version": 3
   },
   "file_extension": ".py",
   "mimetype": "text/x-python",
   "name": "python",
   "nbconvert_exporter": "python",
   "pygments_lexer": "ipython3",
   "version": "3.9.16"
  },
  "orig_nbformat": 4
 },
 "nbformat": 4,
 "nbformat_minor": 2
}
