{
 "cells": [
  {
   "cell_type": "markdown",
   "id": "30697a6b-1e9d-437b-9b1c-b9899e5df176",
   "metadata": {},
   "source": [
    "# Researching different Word to Digit Libraries\n",
    "<b>Goal of the notebook:</b> The goal of the notebook it look into different libraries that can convert numeric words to digits. I have found two libraries that look quiet promising in this field which are the :\n",
    "- wordtodigit -> https://pypi.org/project/wordtodigits/\n",
    "- text_to_num -> https://pypi.org/project/text2num/\n",
    "\n",
    "I will be testing each library on a few examples which include numerical words to see how they perform by converting them to actual digits."
   ]
  },
  {
   "cell_type": "markdown",
   "id": "0a9a5283-cf9d-4388-bd80-3c8654ee3c51",
   "metadata": {
    "tags": []
   },
   "source": [
    "# Importing Libraries"
   ]
  },
  {
   "cell_type": "code",
   "execution_count": 2,
   "id": "74bb1377-0dee-4517-910c-eb45f15538ca",
   "metadata": {
    "tags": []
   },
   "outputs": [],
   "source": [
    "import wordtodigits\n",
    "from text_to_num import alpha2digit"
   ]
  },
  {
   "cell_type": "markdown",
   "id": "70c1adef-c69d-462d-ac5a-2f46f3296aa5",
   "metadata": {},
   "source": [
    "# 1. Working with Word to Digit"
   ]
  },
  {
   "cell_type": "markdown",
   "id": "c1018214-5673-4364-a4d0-4cfb3fba4429",
   "metadata": {},
   "source": [
    "## 1.1. Testing the Library\n",
    "Here I will be testing the Library \"Word to Digits\" with the example text given from the Library source to see if it functions."
   ]
  },
  {
   "cell_type": "code",
   "execution_count": 3,
   "id": "b6c27b20-c973-4cfd-8973-d6dea086f15d",
   "metadata": {
    "tags": []
   },
   "outputs": [
    {
     "name": "stdout",
     "output_type": "stream",
     "text": [
      "A car accelerates for 5.21 seconds for a distance of 110 meters.\n"
     ]
    }
   ],
   "source": [
    "text1 = 'A car accelerates for five point two one seconds for a distance of one hundred and ten meters.'\n",
    "print(wordtodigits.convert(text1))"
   ]
  },
  {
   "cell_type": "markdown",
   "id": "c41a753d-d5d2-4ab1-809f-41e758a9bfc8",
   "metadata": {},
   "source": [
    "As it can be seen above, the library can succesfully convert word numbers into actual integers in a text."
   ]
  },
  {
   "cell_type": "markdown",
   "id": "dbcdced6-3780-451e-af7b-3c46f1c1497d",
   "metadata": {},
   "source": [
    "## 1.2. Lunch Form Full Context\n",
    "In this section of the notebook I will be testing 4 cases of lunch exmple validation we have created to see how well the library converts the number words."
   ]
  },
  {
   "cell_type": "markdown",
   "id": "b162486a-91da-414b-b0e7-7c60dbd19e59",
   "metadata": {},
   "source": [
    "### 1.2.1. First Lunch Exmple\n",
    "<b> Context</b>\n",
    "\n",
    "\"I would like to arrange a lunch on __*March the twenty fourth*__ in the main hall. I expect about __*twenty five to thirty*__ people. Lunch starts at __*twelve thirty*__. Please also bring some vegetarian sandwiches.\"\n",
    "\n",
    "<b>I am expecting for the text to output the following:</b>\n",
    "\n",
    "\"I would like to arrange a lunch on __*March 24*__ in the main hall. I expect about __*25 to 30*__ people. Lunch starts at __*12:30*__. Please also bring some vegetarian sandwiches.\"\n"
   ]
  },
  {
   "cell_type": "code",
   "execution_count": 17,
   "id": "fde06fb9-9781-4976-96f8-a64be21a072e",
   "metadata": {
    "tags": []
   },
   "outputs": [
    {
     "name": "stdout",
     "output_type": "stream",
     "text": [
      "I would like to arrange a lunch on March the 20 fourth in the main hall. I expect about 25 to 30 people. Lunch starts at 42. Please also bring some vegetarian sandwiches.\n"
     ]
    }
   ],
   "source": [
    "lunch_eg_1 = 'I would like to arrange a lunch on March the twenty fourth in the main hall. I expect about twenty five to thirty people. Lunch starts at twelve thirty. Please also bring some vegetarian sandwiches.'\n",
    "print(wordtodigits.convert(lunch_eg_1))"
   ]
  },
  {
   "cell_type": "markdown",
   "id": "39ecc5e9-b3da-43a0-b1c2-6af82e81e6ae",
   "metadata": {
    "tags": []
   },
   "source": [
    "Lets rephrase the context to see if the libary can interpret it differently"
   ]
  },
  {
   "cell_type": "code",
   "execution_count": 16,
   "id": "7edb1e6c-3d66-44e8-a8b6-7ef9356d09b7",
   "metadata": {
    "tags": []
   },
   "outputs": [
    {
     "name": "stdout",
     "output_type": "stream",
     "text": [
      "I would like to arrange a lunch on March the 24 th in the main hall. I expect about 25 to 30 people. Lunch starts at 12 : 30. Please also bring some vegetarian sandwiches.\n"
     ]
    }
   ],
   "source": [
    "lunch_eg_1 = 'I would like to arrange a lunch on March the twenty four th in the main hall. I expect about twenty five to thirty people. Lunch starts at twelve : thirty. Please also bring some vegetarian sandwiches.'\n",
    "print(wordtodigits.convert(lunch_eg_1))"
   ]
  },
  {
   "cell_type": "markdown",
   "id": "51aed448-3e5b-46ca-9be4-cbcfa5e4d0dc",
   "metadata": {},
   "source": [
    "As it can be seen above, the library only can work with numbers but not time or date"
   ]
  },
  {
   "cell_type": "markdown",
   "id": "b8807a99-cf08-42dd-b200-756556168a96",
   "metadata": {},
   "source": [
    "### 1.2.2. Lunch Example\n",
    "<b>Context</b>\n",
    "\n",
    "\"Next Thursday I have an appointment with __*six*__ visitors. I'd like to offer them lunch. I have reserved the room __*one point two*__ for this. Preferably no fish sandwiches. Orange juice is always there, right?\"\n",
    "\n",
    "<b>I am expecting for the text to output the following:</b>\n",
    "\n",
    "\"Next Thursday I have an appointment with __*6*__ visitors. I'd like to offer them lunch. I have reserved the room __*1.2*__ for this. Preferably no fish sandwiches. Orange juice is always there, right?\""
   ]
  },
  {
   "cell_type": "code",
   "execution_count": 18,
   "id": "8f602e48-157c-4c7a-86a1-84c1efce9f13",
   "metadata": {
    "tags": []
   },
   "outputs": [
    {
     "name": "stdout",
     "output_type": "stream",
     "text": [
      "Next Thursday I have an appointment with 6 visitors. I'd like to offer them lunch. I have reserved the room 1.2 for this. Preferably no fish sandwiches. Orange juice is always there, right?\n"
     ]
    }
   ],
   "source": [
    "lunch_eg_2 = \"Next Thursday I have an appointment with six visitors. I'd like to offer them lunch. I have reserved the room one point two for this. Preferably no fish sandwiches. Orange juice is always there, right?\"\n",
    "print(wordtodigits.convert(lunch_eg_2))"
   ]
  },
  {
   "cell_type": "markdown",
   "id": "c288d61d-adc4-40a3-905d-8a8a86fc5395",
   "metadata": {},
   "source": [
    "As we can see, the above text is numbers are converted correctly."
   ]
  },
  {
   "cell_type": "markdown",
   "id": "a7169d0b-021d-482a-b8be-e4b326dc0439",
   "metadata": {},
   "source": [
    "### 1.2.3. Lunch Example\n",
    "<b>Context</b>\n",
    "\n",
    "\"For an event with <b>ninety </b>students I would like to organize a meeting with some drinks and snacks. It is scheduled for <b>March thirtieth</b> in the auditorium. The drink is at <b>four pm</b>, but the event starts at <b>three pm</b>. It may cost a maximum of <b>five hundred euros</b>, will that work?\"\n",
    "\n",
    "\n",
    "<b>I am expecting for the text to output the following:</b>\n",
    "\n",
    "\"For an event with <b>90</b> students I would like to organize a meeting with some drinks and snacks. It is scheduled for <b>March 30 </b>in the auditorium. The drink is at <b>16:00</b>, but the event starts at <b>15:00</b>. It may cost a maximum of <b> 500 euros</b>, will that work?\""
   ]
  },
  {
   "cell_type": "code",
   "execution_count": 20,
   "id": "311c06f5-48c6-44ff-970c-e0a256e4ed9e",
   "metadata": {
    "tags": []
   },
   "outputs": [
    {
     "name": "stdout",
     "output_type": "stream",
     "text": [
      "For an event with 90 students I would like to organize a meeting with some drinks and snacks. It is scheduled for March thirtieth in the auditorium. The drink is at 4 pm, but the event starts at 3 pm. It may cost a maximum of 500 euros, will that work?\n"
     ]
    }
   ],
   "source": [
    "lunch_eg_3 = \"For an event with ninety students I would like to organize a meeting with some drinks and snacks. It is scheduled for March thirtieth in the auditorium. The drink is at four pm, but the event starts at three pm. It may cost a maximum of five hundred euros, will that work?\"\n",
    "print(wordtodigits.convert(lunch_eg_3))"
   ]
  },
  {
   "cell_type": "markdown",
   "id": "64955a29-7796-4523-9df0-defc7dadb266",
   "metadata": {},
   "source": [
    "Here there are in total 5 numbers, where three of them are based on time and date which we already observed the library cannot convert but it has succesfully converted the other two word numbers to integers."
   ]
  },
  {
   "cell_type": "markdown",
   "id": "1aba5a94-c77b-43d6-ba50-34c07bc977a7",
   "metadata": {},
   "source": [
    "### 1.2.4. Lunch Example\n",
    "<b>Context</b>\n",
    "\n",
    "\"Hello, my name is Jane Doe and I am from the Software department at Fontys Applied University. I would like to organize a lunch event with my team this Friday, __*the twenty fourth of March, two thousand and twenty three*__, from __*twelve noon until one o'clock*__ in the afternoon. The event will take place at Fontys TQ, located at Achtseweg Zuid __*one hundred fifty three, Five Thousand six hundred fifty one GW*__ Eindhoven. We have a total of __*fifteen*__ people attending, some of whom have allergies and special dietary preferences. Two of our members require a halal meal, and another requires a vegan meal. Additionally, one of our members is allergic to mushrooms, so we would like to request that mushrooms be excluded from the menu options.\"\n",
    "\n",
    "\n",
    "<b>I am expecting for the text to output the following:</b>\n",
    "    \n",
    "\"Hello, my name is Jane Doe and I am from the Software department at Fontys Applied University. I would like to organize a lunch event with my team this Friday, March <b>24th, 2023</b>, from <b>12:00 p.m.</b> until <b>1:00 p.m.</b> The event will take place at Fontys TQ, located at Achtseweg Zuid 153, 5651 GW Eindhoven. We have a total of <b>15</b> people attending, some of whom have allergies and special dietary preferences. Two of our members require a halal meal, and another requires a vegan meal. Additionally, one of our members is allergic to mushrooms, so we would like to request that mushrooms be excluded from the menu options.\""
   ]
  },
  {
   "cell_type": "code",
   "execution_count": 29,
   "id": "d71d7938-7a59-4534-8784-d0f2a9cb1538",
   "metadata": {
    "tags": []
   },
   "outputs": [
    {
     "name": "stdout",
     "output_type": "stream",
     "text": [
      "Hello, my name is Jane Doe and I am from the Software department at Fontys Applied University. I would like to organize a lunch event with my team this Friday, the 20 fourth of March, 2020 three, from 12 noon until 1 o'clock in the afternoon. The event will take place at Fontys TQ, located at Achtseweg Zuid 150 three, 5651 GW Eindhoven. We have a total of 15 people attending, some of whom have allergies and special dietary preferences. 2 of our members require a halal meal, and another requires a vegan meal. Additionally, 1 of our members is allergic to mushrooms, so we would like to request that mushrooms be excluded from the menu options.\n"
     ]
    }
   ],
   "source": [
    "lunch_eg_4 = \"Hello, my name is Jane Doe and I am from the Software department at Fontys Applied University. I would like to organize a lunch event with my team this Friday, the twenty fourth of March, two thousand and twenty three, from twelve noon until one o'clock in the afternoon. The event will take place at Fontys TQ, located at Achtseweg Zuid one hundred fifty three, Five Thousand six hundred fifty one GW Eindhoven. We have a total of fifteen people attending, some of whom have allergies and special dietary preferences. Two of our members require a halal meal, and another requires a vegan meal. Additionally, one of our members is allergic to mushrooms, so we would like to request that mushrooms be excluded from the menu options.\"\n",
    "print(wordtodigits.convert(lunch_eg_4))"
   ]
  },
  {
   "cell_type": "markdown",
   "id": "16973972-1d0b-478c-b73e-271b0470510b",
   "metadata": {},
   "source": [
    "As stated the library does not work with time but we also see that it messes up by the street number: <b>three</b> is not converted to a word. This is because of the comma as we can see the below example."
   ]
  },
  {
   "cell_type": "code",
   "execution_count": 28,
   "id": "ca488a07-75e8-4f3a-87e1-7360b606945d",
   "metadata": {
    "tags": []
   },
   "outputs": [
    {
     "name": "stdout",
     "output_type": "stream",
     "text": [
      "Hello, my name is Jane Doe and I am from the Software department at Fontys Applied University. I would like to organize a lunch event with my team this Friday the 20 fourth of March 2023 from 12 noon until 1 o'clock in the afternoon. The event will take place at Fontys TQ located at Achtseweg Zuid 158651 GW Eindhoven. We have a total of 15 people attending, some of whom have allergies and special dietary preferences. 2 of our members require a halal meal, and another requires a vegan meal. Additionally, 1 of our members is allergic to mushrooms, so we would like to request that mushrooms be excluded from the menu options.\n"
     ]
    }
   ],
   "source": [
    "lunch_eg_4 = \"Hello, my name is Jane Doe and I am from the Software department at Fontys Applied University. I would like to organize a lunch event with my team this Friday the twenty fourth of March two thousand and twenty three from twelve noon until one o'clock in the afternoon. The event will take place at Fontys TQ located at Achtseweg Zuid one hundred fifty three Five Thousand six hundred fifty one GW Eindhoven. We have a total of fifteen people attending, some of whom have allergies and special dietary preferences. Two of our members require a halal meal, and another requires a vegan meal. Additionally, one of our members is allergic to mushrooms, so we would like to request that mushrooms be excluded from the menu options.\"\n",
    "print(wordtodigits.convert(lunch_eg_4))"
   ]
  },
  {
   "cell_type": "markdown",
   "id": "43b5cd05-b0ed-4c94-bc63-a4f356c5e664",
   "metadata": {},
   "source": [
    "As substitue, I formulated the sentece differently by adding the word <b>postcode</b>."
   ]
  },
  {
   "cell_type": "code",
   "execution_count": 31,
   "id": "0877c9c7-2f23-492e-89e1-acde6f33c581",
   "metadata": {
    "tags": []
   },
   "outputs": [
    {
     "name": "stdout",
     "output_type": "stream",
     "text": [
      "Hello, my name is Jane Doe and I am from the Software department at Fontys Applied University. I would like to organize a lunch event with my team this Friday the 20 fourth of March 2023 from 12 noon until 1 o'clock in the afternoon. The event will take place at Fontys TQ located at Achtseweg Zuid 153 postcode 5651 GW Eindhoven. We have a total of 15 people attending, some of whom have allergies and special dietary preferences. 2 of our members require a halal meal, and another requires a vegan meal. Additionally, 1 of our members is allergic to mushrooms, so we would like to request that mushrooms be excluded from the menu options.\n"
     ]
    }
   ],
   "source": [
    "lunch_eg_4 = \"Hello, my name is Jane Doe and I am from the Software department at Fontys Applied University. I would like to organize a lunch event with my team this Friday the twenty fourth of March two thousand and twenty three from twelve noon until one o'clock in the afternoon. The event will take place at Fontys TQ located at Achtseweg Zuid one hundred fifty three postcode Five Thousand six hundred fifty one GW Eindhoven. We have a total of fifteen people attending, some of whom have allergies and special dietary preferences. Two of our members require a halal meal, and another requires a vegan meal. Additionally, one of our members is allergic to mushrooms, so we would like to request that mushrooms be excluded from the menu options.\"\n",
    "print(wordtodigits.convert(lunch_eg_4))"
   ]
  },
  {
   "cell_type": "markdown",
   "id": "26161e41-30af-442b-95c0-13d53f3494a5",
   "metadata": {},
   "source": [
    "And after taking out the comma's and phrasing the sentence, the context is able to convert number words to actual digits."
   ]
  },
  {
   "cell_type": "markdown",
   "id": "bed4fc1c-00f1-456d-b490-17027c0d0e2d",
   "metadata": {},
   "source": [
    "## 1.3. Security Form Full Context\n",
    "\n",
    "In this section of the notebook I will be testing 1 cases of security form exmple validation we have created to see how well the library converts the number words."
   ]
  },
  {
   "cell_type": "markdown",
   "id": "a8ab393c-fe6c-4655-8388-17a269058fd0",
   "metadata": {},
   "source": [
    "### 1.3.1. Security Example\n",
    "\n",
    "I am expecting for the text to output the following:\n",
    "    \n",
    "\"I lost my USB stick, maybe I lost it, but I'm not sure. I used it just yesterday, I think it fell out of my coat pocket. It contains very sensitive information. The stick is protected with a password, but that is 0000.\""
   ]
  },
  {
   "cell_type": "code",
   "execution_count": null,
   "id": "7c5defea-6c14-491c-a6a4-5e985a2b4375",
   "metadata": {
    "tags": []
   },
   "outputs": [
    {
     "name": "stdout",
     "output_type": "stream",
     "text": [
      "I lost my USB stick, maybe I lost it, but I'm not sure. I used it just yesterday, I think it fell out of my coat pocket. It contains very sensitive information. The stick is protected with a password, but that is 0.\n"
     ]
    }
   ],
   "source": [
    "security_eg_1 = \"I lost my USB stick, maybe I lost it, but I'm not sure. I used it just yesterday, I think it fell out of my coat pocket. It contains very sensitive information. The stick is protected with a password, but that is zero zero zero zero.\"\n",
    "print(wordtodigits.convert(security_eg_1))"
   ]
  },
  {
   "cell_type": "code",
   "execution_count": null,
   "id": "c8d26598-b167-4240-940b-9fc5ffbc8366",
   "metadata": {
    "tags": []
   },
   "outputs": [
    {
     "name": "stdout",
     "output_type": "stream",
     "text": [
      "I lost my USB stick, maybe I lost it, but I'm not sure. I used it just yesterday, I think it fell out of my coat pocket. It contains very sensitive information. The stick is protected with a password, but that is 0 , 0 , 0 , 0.\n"
     ]
    }
   ],
   "source": [
    "security_eg_1 = \"I lost my USB stick, maybe I lost it, but I'm not sure. I used it just yesterday, I think it fell out of my coat pocket. It contains very sensitive information. The stick is protected with a password, but that is zero , zero , zero , zero.\"\n",
    "print(wordtodigits.convert(security_eg_1))"
   ]
  },
  {
   "cell_type": "markdown",
   "id": "71a9f259-7e08-4bb5-afae-fe0fab098701",
   "metadata": {},
   "source": [
    "As we can see from the above contexts, when converting four zero's to a four digit number, the library does not understand the converging without adding it to one number."
   ]
  },
  {
   "cell_type": "markdown",
   "id": "33f71c1c-93ae-4ed6-ae8a-2fd239d45023",
   "metadata": {},
   "source": [
    "## 1.4 Conclusion / Findings\n",
    "The library is not able to convert a number word to a digit depending on the following:\n",
    "- consits of a <b> , (comma)</b> right after the digit.\n",
    "- Cannot convert time.\n",
    "- Cannot convert date.\n",
    "- Cannot to pin numbers with multiple zeros."
   ]
  },
  {
   "cell_type": "markdown",
   "id": "58057a76-6a24-4740-9ea4-d4d4debfd8af",
   "metadata": {},
   "source": [
    "# 2. Working with text_to_num Library"
   ]
  },
  {
   "cell_type": "markdown",
   "id": "bb0f8615-7985-408e-965d-f51e3b4b0a0e",
   "metadata": {},
   "source": [
    "## 2.1. Testing the Library\n",
    "Here I will be testing the Library \"Number to Text\" with the example text given from the Library source to see if it functions."
   ]
  },
  {
   "cell_type": "code",
   "execution_count": 41,
   "id": "b5b6cdf0-32f3-49a7-8c60-eb894b63bb2e",
   "metadata": {
    "tags": []
   },
   "outputs": [],
   "source": [
    "sentence = (\n",
    "...     \"Huit cent quarante-deux pommes, vingt-cinq chiens, mille trois chevaux, \"\n",
    "...     \"douze mille six cent quatre-vingt-dix-huit clous.\\n\"\n",
    "...     \"Quatre-vingt-quinze vaut nonante-cinq. On tolère l'absence de tirets avant les unités : \"\n",
    "...     \"soixante seize vaut septante six.\\n\"\n",
    "...     \"Nombres en série : douze quinze zéro zéro quatre vingt cinquante-deux cent trois cinquante deux \"\n",
    "...     \"trente et un.\\n\"\n",
    "...     \"Ordinaux: cinquième troisième vingt et unième centième mille deux cent trentième.\\n\"\n",
    "...     \"Décimaux: douze virgule quatre-vingt dix-neuf, cent vingt virgule zéro cinq ; \"\n",
    "...     \"mais soixante zéro deux.\"\n",
    "... )"
   ]
  },
  {
   "cell_type": "code",
   "execution_count": 43,
   "id": "063f342d-fa9d-4888-9e3d-4f228f2d5890",
   "metadata": {
    "tags": []
   },
   "outputs": [
    {
     "name": "stdout",
     "output_type": "stream",
     "text": [
      "842 pommes, 25 chiens, 1003 chevaux, 12698 clous.\n",
      "95 vaut 95. On tolère l'absence de tirets avant les unités : 76 vaut 76.\n",
      "Nombres en série : 12 15 004 20 52 103 52 31.\n",
      "Ordinaux: 5ème 3ème 21ème 100ème 1230ème.\n",
      "Décimaux: 12,99, 120,05 ; mais 60 02.\n"
     ]
    }
   ],
   "source": [
    "print(alpha2digit(sentence, \"fr\", ordinal_threshold=0))"
   ]
  },
  {
   "cell_type": "code",
   "execution_count": 44,
   "id": "b71e8b92-d07c-4b28-ba0f-042086f8a9e8",
   "metadata": {
    "tags": []
   },
   "outputs": [],
   "source": [
    "sentence = (\n",
    "    \"Eight hundred and forty-two apples, twenty-five dogs, one thousand three horses, twelve thousand six hundred and ninety-eight nails.\"\n",
    " )"
   ]
  },
  {
   "cell_type": "code",
   "execution_count": 45,
   "id": "bf975438-9616-41b7-ba28-b4371d78a920",
   "metadata": {
    "tags": []
   },
   "outputs": [
    {
     "name": "stdout",
     "output_type": "stream",
     "text": [
      "800 and 42 apples, 25 dogs, 1003 horses, 12600 and 98 nails.\n"
     ]
    }
   ],
   "source": [
    "print(alpha2digit(sentence, \"en\", ordinal_threshold=0))"
   ]
  },
  {
   "cell_type": "markdown",
   "id": "c4eead3c-db73-4224-9bbb-4192937a9cc9",
   "metadata": {
    "tags": []
   },
   "source": [
    "This library is not able to convert the numeric words to digits but it can also understand different languages which include russian, english, french, spanish, portugese and german."
   ]
  },
  {
   "cell_type": "markdown",
   "id": "b03bd8db-9ed2-432e-9b24-18f9834b42a0",
   "metadata": {},
   "source": [
    "## 2.2 Lunch From Full Context\n",
    "In this section of the notebook I will be testing 4 cases of lunch exmple validation we have created to see how well the library converts the number words."
   ]
  },
  {
   "cell_type": "markdown",
   "id": "08fd9235-8200-40eb-b651-81c3581c6414",
   "metadata": {},
   "source": [
    "### 1.2.1. First Lunch Exmple\n",
    "<b> Context</b>\n",
    "\n",
    "\"I would like to arrange a lunch on __*March the twenty fourth*__ in the main hall. I expect about __*twenty five to thirty*__ people. Lunch starts at __*twelve thirty*__. Please also bring some vegetarian sandwiches.\"\n",
    "\n",
    "<b>I am expecting for the text to output the following:</b>\n",
    "\n",
    "\"I would like to arrange a lunch on __*March 24*__ in the main hall. I expect about __*25 to 30*__ people. Lunch starts at __*12:30*__. Please also bring some vegetarian sandwiches.\"\n"
   ]
  },
  {
   "cell_type": "code",
   "execution_count": 10,
   "id": "0534e9e5-5331-44e6-893d-ceaba1de2b44",
   "metadata": {
    "tags": []
   },
   "outputs": [
    {
     "name": "stdout",
     "output_type": "stream",
     "text": [
      "I would like to arrange a lunch on March the 24th in the main hall. I expect about 25 to 30 people. Lunch starts at 12 30. Please also bring some vegetarian sandwiches.\n"
     ]
    }
   ],
   "source": [
    "lunch_eg_1 = 'I would like to arrange a lunch on March the twenty fourth in the main hall. I expect about twenty five to thirty people. Lunch starts at twelve thirty. Please also bring some vegetarian sandwiches.'\n",
    "print(alpha2digit(lunch_eg_1, \"en\", ordinal_threshold=0))"
   ]
  },
  {
   "cell_type": "markdown",
   "id": "ac950d88-5199-400f-a7da-903ce4ea37db",
   "metadata": {},
   "source": [
    "Not only do we see that the library is able to convert numerical words to digtis but it also understood the data and time unlike the other wordtodigit library."
   ]
  },
  {
   "cell_type": "markdown",
   "id": "d5c343db-7d99-4fc4-93d1-d2405f47faec",
   "metadata": {},
   "source": [
    "### 1.2.2. Lunch Example\n",
    "<b>Context</b>\n",
    "\n",
    "\"Next Thursday I have an appointment with __*six*__ visitors. I'd like to offer them lunch. I have reserved the room __*one point two*__ for this. Preferably no fish sandwiches. Orange juice is always there, right?\"\n",
    "\n",
    "<b>I am expecting for the text to output the following:</b>\n",
    "\n",
    "\"Next Thursday I have an appointment with __*6*__ visitors. I'd like to offer them lunch. I have reserved the room __*1.2*__ for this. Preferably no fish sandwiches. Orange juice is always there, right?\""
   ]
  },
  {
   "cell_type": "code",
   "execution_count": 13,
   "id": "f7b6d60b-b85f-4df6-a60b-ee3e22e16f78",
   "metadata": {},
   "outputs": [
    {
     "name": "stdout",
     "output_type": "stream",
     "text": [
      "Next Thursday I have an appointment with 6 visitors. I'd like to offer them lunch. I have reserved the room 1.2 for this. Preferably no fish sandwiches. Orange juice is always there, right?\n"
     ]
    }
   ],
   "source": [
    "lunch_eg_2 = \"Next Thursday I have an appointment with six visitors. I'd like to offer them lunch. I have reserved the room one point two for this. Preferably no fish sandwiches. Orange juice is always there, right?\"\n",
    "print(alpha2digit(lunch_eg_2, \"en\", ordinal_threshold=0))"
   ]
  },
  {
   "cell_type": "markdown",
   "id": "2630a282-85fd-4f17-b637-23c1674ec7ab",
   "metadata": {},
   "source": [
    "As we can see, the above text is numbers are converted correctly."
   ]
  },
  {
   "cell_type": "markdown",
   "id": "b4e449eb-b133-4c3a-a2f6-d4def6830dde",
   "metadata": {},
   "source": [
    "### 1.2.3. Lunch Example\n",
    "<b>Context</b>\n",
    "\n",
    "\"For an event with <b>ninety </b>students I would like to organize a meeting with some drinks and snacks. It is scheduled for <b>March thirtieth</b> in the auditorium. The drink is at <b>four pm</b>, but the event starts at <b>three pm</b>. It may cost a maximum of <b>five hundred euros</b>, will that work?\"\n",
    "\n",
    "\n",
    "<b>I am expecting for the text to output the following:</b>\n",
    "\n",
    "\"For an event with <b>90</b> students I would like to organize a meeting with some drinks and snacks. It is scheduled for <b>March 30 </b>in the auditorium. The drink is at <b>16:00</b>, but the event starts at <b>15:00</b>. It may cost a maximum of <b> 500 euros</b>, will that work?\""
   ]
  },
  {
   "cell_type": "code",
   "execution_count": 16,
   "id": "eeab4b7b-b217-4c42-85bc-651c6518258b",
   "metadata": {
    "tags": []
   },
   "outputs": [
    {
     "name": "stdout",
     "output_type": "stream",
     "text": [
      "For an event with 90 students I would like to organize a meeting with some drinks and snacks. It is scheduled for March 30th in the auditorium. The drink is at 4 pm, but the event starts at 3 pm. It may cost a maximum of 500 euros, will that work?\n"
     ]
    }
   ],
   "source": [
    "lunch_eg_3 = \"For an event with ninety students I would like to organize a meeting with some drinks and snacks. It is scheduled for March thirtieth in the auditorium. The drink is at four pm, but the event starts at three pm. It may cost a maximum of five hundred euros, will that work?\"\n",
    "print(alpha2digit(lunch_eg_3, \"en\", ordinal_threshold=0))"
   ]
  },
  {
   "cell_type": "markdown",
   "id": "e2e5b7f7-9be1-4eb3-ac11-39ec1b2b2cca",
   "metadata": {},
   "source": [
    "### 1.2.4. Lunch Example\n",
    "<b>Context</b>\n",
    "\n",
    "\"Hello, my name is Jane Doe and I am from the Software department at Fontys Applied University. I would like to organize a lunch event with my team this Friday, __*the twenty fourth of March, two thousand and twenty three*__, from __*twelve noon until one o'clock*__ in the afternoon. The event will take place at Fontys TQ, located at Achtseweg Zuid __*one hundred fifty three, Five Thousand six hundred fifty one GW*__ Eindhoven. We have a total of __*fifteen*__ people attending, some of whom have allergies and special dietary preferences. Two of our members require a halal meal, and another requires a vegan meal. Additionally, one of our members is allergic to mushrooms, so we would like to request that mushrooms be excluded from the menu options.\"\n",
    "\n",
    "\n",
    "<b>I am expecting for the text to output the following:</b>\n",
    "    \n",
    "\"Hello, my name is Jane Doe and I am from the Software department at Fontys Applied University. I would like to organize a lunch event with my team this Friday, March <b>24th, 2023</b>, from <b>12:00 p.m.</b> until <b>1:00 p.m.</b> The event will take place at Fontys TQ, located at Achtseweg Zuid 153, 5651 GW Eindhoven. We have a total of <b>15</b> people attending, some of whom have allergies and special dietary preferences. Two of our members require a halal meal, and another requires a vegan meal. Additionally, one of our members is allergic to mushrooms, so we would like to request that mushrooms be excluded from the menu options.\""
   ]
  },
  {
   "cell_type": "code",
   "execution_count": 20,
   "id": "106f1933-d486-4e31-b8e7-d95940b0afc6",
   "metadata": {
    "tags": []
   },
   "outputs": [
    {
     "name": "stdout",
     "output_type": "stream",
     "text": [
      "Hello, my name is Jane Doe and I am from the Software department at Fontys Applied University. I would like to organize a lunch event with my team this Friday, the 20 fourth of March, 2020 three, from 12 noon until 1 o'clock in the afternoon. The event will take place at Fontys TQ, located at Achtseweg Zuid 150 three, 5651 GW Eindhoven. We have a total of 15 people attending, some of whom have allergies and special dietary preferences. 2 of our members require a halal meal, and another requires a vegan meal. Additionally, 1 of our members is allergic to mushrooms, so we would like to request that mushrooms be excluded from the menu options.\n"
     ]
    }
   ],
   "source": [
    "lunch_eg_4 = \"Hello, my name is Jane Doe and I am from the Software department at Fontys Applied University. I would like to organize a lunch event with my team this Friday, the twenty fourth of March, two thousand twenty three, from twelve noon until one o'clock in the afternoon. The event will take place at Fontys TQ, located at Achtseweg Zuid one hundred fifty three, Five Thousand six hundred fifty one GW Eindhoven. We have a total of fifteen people attending, some of whom have allergies and special dietary preferences. Two of our members require a halal meal, and another requires a vegan meal. Additionally, one of our members is allergic to mushrooms, so we would like to request that mushrooms be excluded from the menu options.\"\n",
    "print(wordtodigits.convert(lunch_eg_4))"
   ]
  },
  {
   "cell_type": "code",
   "execution_count": 21,
   "id": "f6f7bd70-33c4-4c6e-ab73-6a6a0fe007b4",
   "metadata": {
    "tags": []
   },
   "outputs": [
    {
     "name": "stdout",
     "output_type": "stream",
     "text": [
      "Hello, my name is Jane Doe and I am from the Software department at Fontys Applied University. I would like to organize a lunch event with my team this Friday, the 24th of March, 2023, from 12 noon until one o'clock in the afternoon. The event will take place at Fontys TQ, located at Achtseweg Zuid 153, 5651 GW Eindhoven. We have a total of 15 people attending, some of whom have allergies and special dietary preferences. 2 of our members require a halal meal, and another requires a vegan meal. Additionally, one of our members is allergic to mushrooms, so we would like to request that mushrooms be excluded from the menu options.\n"
     ]
    }
   ],
   "source": [
    "print(alpha2digit(lunch_eg_4, \"en\", ordinal_threshold=0))"
   ]
  },
  {
   "cell_type": "markdown",
   "id": "cf1e711e-b319-4bbc-b8b9-7fc573a22534",
   "metadata": {},
   "source": [
    "As we can see above the library is able to convert each numerical word to digit besides the time <b>one o'clock</b>"
   ]
  },
  {
   "cell_type": "markdown",
   "id": "f613f05a-1c0c-45a1-af76-71a002181931",
   "metadata": {},
   "source": [
    "## 1.3. Security Form Full Context\n",
    "\n",
    "In this section of the notebook I will be testing 1 cases of security form exmple validation we have created to see how well the library converts the number words."
   ]
  },
  {
   "cell_type": "markdown",
   "id": "35573f57-bb14-4a6a-8f78-88c0e9c36dc4",
   "metadata": {},
   "source": [
    "### 1.3.1. Security Example\n",
    "\n",
    "I am expecting for the text to output the following:\n",
    "    \n",
    "\"I lost my USB stick, maybe I lost it, but I'm not sure. I used it just yesterday, I think it fell out of my coat pocket. It contains very sensitive information. The stick is protected with a password, but that is 0000.\""
   ]
  },
  {
   "cell_type": "code",
   "execution_count": 24,
   "id": "4c6d88a8-dd25-4f86-aad0-9efd8cca2083",
   "metadata": {
    "tags": []
   },
   "outputs": [
    {
     "name": "stdout",
     "output_type": "stream",
     "text": [
      "I lost my USB stick, maybe I lost it, but I'm not sure. I used it just yesterday, I think it fell out of my coat pocket. It contains very sensitive information. The stick is protected with a password, but that is 0000.\n"
     ]
    }
   ],
   "source": [
    "security_eg_1 = \"I lost my USB stick, maybe I lost it, but I'm not sure. I used it just yesterday, I think it fell out of my coat pocket. It contains very sensitive information. The stick is protected with a password, but that is zero zero zero zero.\"\n",
    "print(alpha2digit(security_eg_1, \"en\", ordinal_threshold=0))"
   ]
  },
  {
   "cell_type": "markdown",
   "id": "5c71a625-6336-4dce-8295-7e7ec13b474a",
   "metadata": {},
   "source": [
    "Unlike the other library this library is able to understand zero word to digits."
   ]
  },
  {
   "cell_type": "markdown",
   "id": "4ef14630-1e38-46a9-996e-0fd8d826cdf4",
   "metadata": {},
   "source": [
    "## 2.4. Conclusion / Findings\n",
    "The library is able to convert a number word to a digit in all scenarious if the phrasing is correct, unlike the other library it can mostly do the following:\n",
    "- consits of a <b> , (comma)</b> right after the digit.\n",
    "- Cannot convert time.\n",
    "- Cannot convert date.\n",
    "- Cannot to pin numbers with multiple zeros."
   ]
  },
  {
   "cell_type": "markdown",
   "id": "ff40f5c3-1fb0-4afa-ae20-3234ae3c1abf",
   "metadata": {},
   "source": [
    "# Overall Conclusion\n",
    "To conclude the research into comparing both libraries and using different edge case examples of the Lunch & Security Form, it can be said and seen that the text_to_num Library is able to work best with the different edge cases in comparison to the wordtodigit library. \n",
    "Not only can it work with mostly time and date which is not the goal for the research but it can also work with commas. Overall it seems the best in working and has perks that it can also understand multiple languages."
   ]
  }
 ],
 "metadata": {
  "kernelspec": {
   "display_name": "Python 3 (ipykernel)",
   "language": "python",
   "name": "python3"
  },
  "language_info": {
   "codemirror_mode": {
    "name": "ipython",
    "version": 3
   },
   "file_extension": ".py",
   "mimetype": "text/x-python",
   "name": "python",
   "nbconvert_exporter": "python",
   "pygments_lexer": "ipython3",
   "version": "3.8.0"
  }
 },
 "nbformat": 4,
 "nbformat_minor": 5
}
