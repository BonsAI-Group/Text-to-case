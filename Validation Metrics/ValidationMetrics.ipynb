{
 "cells": [
  {
   "cell_type": "code",
   "execution_count": 1,
   "metadata": {},
   "outputs": [
    {
     "name": "stderr",
     "output_type": "stream",
     "text": [
      "C:\\Users\\elibr\\AppData\\Roaming\\Python\\Python39\\site-packages\\tqdm\\auto.py:21: TqdmWarning: IProgress not found. Please update jupyter and ipywidgets. See https://ipywidgets.readthedocs.io/en/stable/user_install.html\n",
      "  from .autonotebook import tqdm as notebook_tqdm\n"
     ]
    }
   ],
   "source": [
    "from transformers import pipeline\n",
    "from sentence_transformers import SentenceTransformer\n",
    "from sentence_transformers import util\n",
    "import plotly.express as px\n",
    "import numpy as np\n",
    "import pandas as pd"
   ]
  },
  {
   "cell_type": "code",
   "execution_count": 2,
   "metadata": {},
   "outputs": [],
   "source": [
    "model_names = {\n",
    "    \"deberta\": \"deepset/deberta-v3-large-squad2\",\n",
    "    \"bert_large_deepset\": \"deepset/bert-large-uncased-whole-word-masking-squad2\",\n",
    "    \"bert_base\": \"deepset/bert-base-cased-squad2\",\n",
    "}\n",
    "\n",
    "models = {}\n",
    "for model_name in model_names:\n",
    "    models[model_name] = pipeline(\"question-answering\", model=model_names[model_name], tokenizer=model_names[model_name])"
   ]
  },
  {
   "attachments": {},
   "cell_type": "markdown",
   "metadata": {},
   "source": [
    "# Importing the data"
   ]
  },
  {
   "cell_type": "code",
   "execution_count": 3,
   "metadata": {},
   "outputs": [],
   "source": [
    "df = pd.read_excel('./data/Example forms.xlsx', sheet_name='Lunch_Extractive', dtype=str)\n",
    "\n",
    "df_melted = df.melt(id_vars='Full story', var_name='question', value_name='answer')\n",
    "df_melted.columns = ['context', 'question', 'answers']"
   ]
  },
  {
   "cell_type": "code",
   "execution_count": 4,
   "metadata": {},
   "outputs": [],
   "source": [
    "# Run questions through models\n",
    "def generate_predictions(models, dataset):\n",
    "    results = pd.DataFrame()\n",
    "    index = 0\n",
    "    for model in models:\n",
    "        for row in dataset.iterrows():\n",
    "            prediction = models[model](context=row[1]['context'], question=row[1]['question'])\n",
    "            new_row = pd.DataFrame({\n",
    "                'context': row[1]['context'], \n",
    "                'question': row[1]['question'], \n",
    "                'answer': row[1]['answers'], \n",
    "                'model': model, \n",
    "                'prediction': prediction['answer'], \n",
    "                'model_confidence': prediction['score']\n",
    "            }, index=[index])\n",
    "            results = pd.concat([results, new_row])\n",
    "            index += 1\n",
    "    return results"
   ]
  },
  {
   "cell_type": "code",
   "execution_count": 46,
   "metadata": {},
   "outputs": [],
   "source": [
    "similarity_model = SentenceTransformer('sentence-transformers/all-mpnet-base-v2')\n",
    "def average_answer(dataset): # only answers for a single question\n",
    "    # get all embeddings from similarity model\n",
    "    vector_embeddings = {}\n",
    "    for index, row in dataset.iterrows():\n",
    "        model_name = row['model']\n",
    "        vector_embeddings[model_name] = similarity_model.encode(row[\"prediction\"])\n",
    "    # calculate average vector\n",
    "    average_vector = np.average(list(vector_embeddings.values()), axis=0)\n",
    "\n",
    "    # Return answer closest to average\n",
    "    closest_to_average = max(vector_embeddings, key=lambda key: util.pytorch_cos_sim(average_vector, vector_embeddings[key]))\n",
    "    row_closest_to_average = dataset[dataset['model'] == closest_to_average]\n",
    "    return row_closest_to_average\n",
    "\n",
    "questions = df_melted['question'].unique()\n",
    "contexts = df_melted['context'].unique()"
   ]
  },
  {
   "cell_type": "code",
   "execution_count": 8,
   "metadata": {},
   "outputs": [],
   "source": [
    "answers = generate_predictions(models, df_melted)"
   ]
  },
  {
   "cell_type": "code",
   "execution_count": 48,
   "metadata": {},
   "outputs": [
    {
     "data": {
      "text/html": [
       "<div>\n",
       "<style scoped>\n",
       "    .dataframe tbody tr th:only-of-type {\n",
       "        vertical-align: middle;\n",
       "    }\n",
       "\n",
       "    .dataframe tbody tr th {\n",
       "        vertical-align: top;\n",
       "    }\n",
       "\n",
       "    .dataframe thead th {\n",
       "        text-align: right;\n",
       "    }\n",
       "</style>\n",
       "<table border=\"1\" class=\"dataframe\">\n",
       "  <thead>\n",
       "    <tr style=\"text-align: right;\">\n",
       "      <th></th>\n",
       "      <th>context</th>\n",
       "      <th>question</th>\n",
       "      <th>answer</th>\n",
       "      <th>prediction</th>\n",
       "      <th>model_confidence</th>\n",
       "    </tr>\n",
       "    <tr>\n",
       "      <th>model</th>\n",
       "      <th></th>\n",
       "      <th></th>\n",
       "      <th></th>\n",
       "      <th></th>\n",
       "      <th></th>\n",
       "    </tr>\n",
       "  </thead>\n",
       "  <tbody>\n",
       "    <tr>\n",
       "      <th>bert_large_deepset</th>\n",
       "      <td>18</td>\n",
       "      <td>18</td>\n",
       "      <td>18</td>\n",
       "      <td>18</td>\n",
       "      <td>18</td>\n",
       "    </tr>\n",
       "    <tr>\n",
       "      <th>deberta</th>\n",
       "      <td>30</td>\n",
       "      <td>30</td>\n",
       "      <td>30</td>\n",
       "      <td>30</td>\n",
       "      <td>30</td>\n",
       "    </tr>\n",
       "  </tbody>\n",
       "</table>\n",
       "</div>"
      ],
      "text/plain": [
       "                    context  question  answer  prediction  model_confidence\n",
       "model                                                                      \n",
       "bert_large_deepset       18        18      18          18                18\n",
       "deberta                  30        30      30          30                30"
      ]
     },
     "execution_count": 48,
     "metadata": {},
     "output_type": "execute_result"
    }
   ],
   "source": [
    "# for each question, get the average answer\n",
    "average_answers = pd.DataFrame()\n",
    "for question in questions:\n",
    "    average_answers = pd.concat([average_answers, average_answer(answers[answers['question'] == question])])\n",
    "\n",
    "# count per model\n",
    "count_per_model = average_answers.groupby('model').count()\n",
    "count_per_model"
   ]
  }
 ],
 "metadata": {
  "kernelspec": {
   "display_name": "tf",
   "language": "python",
   "name": "python3"
  },
  "language_info": {
   "codemirror_mode": {
    "name": "ipython",
    "version": 3
   },
   "file_extension": ".py",
   "mimetype": "text/x-python",
   "name": "python",
   "nbconvert_exporter": "python",
   "pygments_lexer": "ipython3",
   "version": "3.9.16"
  },
  "orig_nbformat": 4
 },
 "nbformat": 4,
 "nbformat_minor": 2
}
